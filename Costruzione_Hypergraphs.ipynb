{
 "cells": [
  {
   "cell_type": "code",
   "execution_count": null,
   "id": "initial_id",
   "metadata": {
    "collapsed": true
   },
   "outputs": [],
   "source": [
    "from my_functions import extract_hyperedges\n",
    "import json\n",
    "import csv\n",
    "from pathlib import Path"
   ]
  },
  {
   "metadata": {},
   "cell_type": "markdown",
   "source": "Creazione Ipergrafo\n",
   "id": "d5e45d6e9727c390"
  },
  {
   "metadata": {},
   "cell_type": "code",
   "outputs": [],
   "execution_count": null,
   "source": [
    "script_dir = Path(__file__).parent\n",
    "input_file1 = script_dir / \"Dati\" / \"training data\" / \"Network 1 - in silico\" / \"net1_expression_data.tsv\"\n",
    "output_file1 = script_dir / \"Net1_PC.json\""
   ],
   "id": "89316ff769375f7b"
  },
  {
   "metadata": {},
   "cell_type": "code",
   "outputs": [],
   "execution_count": null,
   "source": [
    "thresholds = [0.5, 0.6, 0.8]\n",
    "extract_hyperedges(input_file=input_file1, output_file=output_file1,type=\"PC\", thresholds=thresholds)"
   ],
   "id": "41f364758bdbd699"
  },
  {
   "metadata": {},
   "cell_type": "markdown",
   "source": "Confronto struttura con valori reali",
   "id": "a36fb6f0a0060b94"
  },
  {
   "metadata": {},
   "cell_type": "code",
   "outputs": [],
   "execution_count": null,
   "source": [
    "def load_tsv(file_path):\n",
    "    \"\"\"Legge il file TSV e restituisce una lista di tuple (gene1, gene2, label).\"\"\"\n",
    "    gene_pairs = []\n",
    "    with open(file_path, newline='') as tsvfile:\n",
    "        reader = csv.reader(tsvfile, delimiter='\\t')\n",
    "        for row in reader:\n",
    "            if len(row) == 3:\n",
    "                gene1, gene2, label = row\n",
    "                gene_pairs.append((gene1, gene2, int(label)))\n",
    "    return gene_pairs\n",
    "\n",
    "def load_json(file_path, index):\n",
    "    \"\"\"Legge il file JSON e restituisce una lista di liste contenenti gli iperarchi corrispondenti all'indice specificato.\"\"\"\n",
    "    with open(file_path, 'r') as jsonfile:\n",
    "        data = json.load(jsonfile)\n",
    "        if index in data:\n",
    "            return data[index]\n",
    "        else:\n",
    "            raise ValueError(f\"Indice {index} non trovato nel file JSON.\")\n",
    "\n",
    "def analyze_gene_pairs(gene_pairs, hyperarcs):\n",
    "    \"\"\"Analizza le coppie di geni rispetto agli iperarchi.\"\"\"\n",
    "    results = []\n",
    "    correct_assignments = 0\n",
    "    total_counts = 0\n",
    "    \n",
    "    for gene1, gene2, label in gene_pairs:\n",
    "        found_in_hyperarc = 0\n",
    "        count_in_hyperarc = 0\n",
    "        \n",
    "        for hyperarc in hyperarcs:\n",
    "            if gene1 in hyperarc and gene2 in hyperarc:\n",
    "                found_in_hyperarc = 1\n",
    "                count_in_hyperarc += 1\n",
    "        \n",
    "        if label == found_in_hyperarc:\n",
    "            correct_assignments += 1\n",
    "        \n",
    "        total_counts += count_in_hyperarc\n",
    "        results.append((gene1, gene2, label, found_in_hyperarc, count_in_hyperarc))\n",
    "    \n",
    "    accuracy = correct_assignments / len(gene_pairs) if gene_pairs else 0\n",
    "    avg_count = total_counts / len(gene_pairs) if gene_pairs else 0\n",
    "    \n",
    "    return results, accuracy, avg_count"
   ],
   "id": "225cb3609828009d"
  },
  {
   "metadata": {},
   "cell_type": "code",
   "outputs": [],
   "execution_count": null,
   "source": [
    "tsv_file1 = script_dir / \"Dati\" / \"test data\" / \"dream5_networkinference_goldstandard_network1 - in silico.tsv\"\n",
    "json_file1 = script_dir / 'Net1_PC.json'\n",
    "\n",
    "gene_pairs1 = load_tsv(tsv_file1)\n",
    "hyperarcs05_1 = load_json(json_file1, index=\"0.5\")\n",
    "hyperarcs06_1 = load_json(json_file1, index=\"0.6\")\n",
    "hyperarcs08_1 = load_json(json_file1, index=\"0.8\")"
   ],
   "id": "e12020e284dd8009"
  },
  {
   "metadata": {},
   "cell_type": "code",
   "outputs": [],
   "execution_count": null,
   "source": [
    "results05_1, accuracy05_1, avg_count05_1 = analyze_gene_pairs(gene_pairs1, hyperarcs05_1)\n",
    "results06_1, accuracy06_1, avg_count06_1 = analyze_gene_pairs(gene_pairs1, hyperarcs06_1)\n",
    "results08_1, accuracy08_1, avg_count08_1 = analyze_gene_pairs(gene_pairs1, hyperarcs08_1)"
   ],
   "id": "7f998036093f98c"
  },
  {
   "metadata": {},
   "cell_type": "code",
   "outputs": [],
   "execution_count": null,
   "source": [
    "print(\"- in silico.tsv:\\n\")\n",
    "print(f\"Accuratezza:\\n0.5-> {accuracy05_1:.4f}\\n0.6-> {accuracy06_1:.4f}\\n0.8-> {accuracy08_1:.4f}\")\n",
    "print(f\"\\nNumero medio di occorrenze delle coppie negli iperarchi:\\n0.5->{avg_count05_1:.4f}\\n0.6->{avg_count06_1:.4f}\\n0.8->{avg_count08_1:.4f}\")"
   ],
   "id": "e7347356bb909966"
  }
 ],
 "metadata": {
  "kernelspec": {
   "display_name": "Python 3",
   "language": "python",
   "name": "python3"
  },
  "language_info": {
   "codemirror_mode": {
    "name": "ipython",
    "version": 2
   },
   "file_extension": ".py",
   "mimetype": "text/x-python",
   "name": "python",
   "nbconvert_exporter": "python",
   "pygments_lexer": "ipython2",
   "version": "2.7.6"
  }
 },
 "nbformat": 4,
 "nbformat_minor": 5
}
